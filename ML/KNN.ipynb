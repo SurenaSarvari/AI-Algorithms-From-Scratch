{
 "cells": [
  {
   "cell_type": "code",
   "execution_count": 1,
   "id": "3193db49",
   "metadata": {},
   "outputs": [],
   "source": [
    "import numpy as np\n",
    "from numpy import linalg as LA\n",
    "import seaborn as sns"
   ]
  },
  {
   "cell_type": "code",
   "execution_count": 2,
   "id": "e055cc84",
   "metadata": {},
   "outputs": [],
   "source": [
    "def normalize(X):\n",
    "    return (X - X.mean(axis=0))/X.std(axis =0)"
   ]
  },
  {
   "cell_type": "code",
   "execution_count": 11,
   "id": "965fe315",
   "metadata": {},
   "outputs": [],
   "source": [
    "class KNN():\n",
    "    def __init__(self, k, distance_metric):\n",
    "        self.k = k\n",
    "        self.distance_metric = distance_metric\n",
    "        self.X = None\n",
    "        self.y = None\n",
    "        self.n = None\n",
    "    def claculate_distance(self, x, y, distance_metric):\n",
    "        if distance_metric == \"euclidean\" :\n",
    "            return np.sqrt(np.sum((x-y)**2))\n",
    "        elif distance_metric == \"manhattan\":\n",
    "            return np.sum(np.abs(x-y))\n",
    "    def fit(self, X, y):\n",
    "        self.X = X\n",
    "        self.y = y\n",
    "        self.n = X.shape[0]\n",
    "    def predict_one(self, z):\n",
    "        distances = np.zeros(self.n)\n",
    "        labels = np.zeros(self.k)\n",
    "        for i in range(self.n):\n",
    "            x = self.X[i]\n",
    "            distances[i] = self.claculate_distance(x, z, self.distance_metric)\n",
    "        for i in range(self.k):\n",
    "            near_arg = np.argmin(distances)\n",
    "            labels[i] = self.y[near_arg]\n",
    "            distances[near_arg] = np.inf\n",
    "            np.delete(self.y, near_arg, 0)\n",
    "            np.delete(self.X, near_arg, 0)\n",
    "        values, counts = np.unique(labels, return_counts=True)\n",
    "        return values[np.argmax(counts)]\n",
    "    def predict(self, Z):\n",
    "        nz = Z.shape[0]\n",
    "        out = np.empty(nz, dtype = self.y.dtype)\n",
    "        for i in range(nz):\n",
    "            out[i] = self.predict_one(Z[i])\n",
    "        return out        "
   ]
  },
  {
   "cell_type": "code",
   "execution_count": 12,
   "id": "9d71be0b",
   "metadata": {},
   "outputs": [],
   "source": [
    "np.random.seed(42)\n",
    "iris = np.array(sns.load_dataset(\"iris\"))\n",
    "label_map = {'setosa' : 0, 'versicolor' : 1, 'virginica' : 2}\n",
    "iris[:, -1] = [label_map[label] for label in iris[:, -1]]\n",
    "np.random.shuffle(iris)\n",
    "train_size =int(0.8 * iris.shape[0])\n",
    "train = iris[:train_size]\n",
    "test = iris[train_size:]\n",
    "\n",
    "x_train = np.delete(train, -1, 1)\n",
    "y_train = train[:, -1]\n",
    "\n",
    "x_test = np.delete(test, -1, 1)\n",
    "y_test = test[:, -1]"
   ]
  },
  {
   "cell_type": "code",
   "execution_count": null,
   "id": "91b2a074",
   "metadata": {},
   "outputs": [],
   "source": [
    "model = KNN(4, \"euclidean\")\n",
    "model.fit(x_train, y_train)\n",
    "y_hat = model.predict(x_test)"
   ]
  },
  {
   "cell_type": "code",
   "execution_count": 15,
   "id": "da7b6a81",
   "metadata": {},
   "outputs": [
    {
     "name": "stdout",
     "output_type": "stream",
     "text": [
      "accuracy : 96.67\n"
     ]
    }
   ],
   "source": [
    "print(f'accuracy : {(100 * (y_hat == y_test).sum().item()/len(y_hat)):.2f}')"
   ]
  },
  {
   "cell_type": "code",
   "execution_count": null,
   "id": "26e6c2b7",
   "metadata": {},
   "outputs": [],
   "source": []
  }
 ],
 "metadata": {
  "kernelspec": {
   "display_name": "base",
   "language": "python",
   "name": "python3"
  },
  "language_info": {
   "codemirror_mode": {
    "name": "ipython",
    "version": 3
   },
   "file_extension": ".py",
   "mimetype": "text/x-python",
   "name": "python",
   "nbconvert_exporter": "python",
   "pygments_lexer": "ipython3",
   "version": "3.10.9"
  }
 },
 "nbformat": 4,
 "nbformat_minor": 5
}
