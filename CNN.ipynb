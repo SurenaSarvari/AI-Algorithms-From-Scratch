{
  "cells": [
    {
      "cell_type": "markdown",
      "metadata": {},
      "source": [
        "## Importing Library"
      ]
    },
    {
      "cell_type": "code",
      "execution_count": null,
      "metadata": {},
      "outputs": [],
      "source": [
        "import numpy as np\n",
        "import torch\n",
        "import torchvision\n",
        "import torchvision.transforms as transforms"
      ]
    },
    {
      "cell_type": "markdown",
      "metadata": {
        "id": "6LHM7pMMycZW"
      },
      "source": [
        "<br><br>\n",
        "<hr>\n",
        "<br><br>"
      ]
    },
    {
      "cell_type": "markdown",
      "metadata": {},
      "source": [
        "## Affine layer"
      ]
    },
    {
      "cell_type": "code",
      "execution_count": null,
      "metadata": {
        "id": "CXxisfyZs7l0"
      },
      "outputs": [],
      "source": [
        "def affine_forward(x, w, b):\n",
        "    N = x.shape[0]\n",
        "    D,M = w.shape\n",
        "    input_vectors = x.reshape(N,D)\n",
        "    out = np.matmul(input_vectors,w) + b\n",
        "    return out, (x, w, b)\n"
      ]
    },
    {
      "cell_type": "code",
      "execution_count": null,
      "metadata": {
        "id": "0Ik4zu_BtFeE"
      },
      "outputs": [],
      "source": [
        "def affine_backward(dout, cache):\n",
        "    x,w,b = cache\n",
        "\n",
        "    N = x.shape[0]\n",
        "    D,M = w.shape\n",
        "\n",
        "    dx = np.matmul(dout,w.transpose()).reshape(x.shape)\n",
        "    dw = np.matmul(x.reshape(N,D).transpose(),dout)\n",
        "    db = np.sum(dout, axis=0)\n",
        "    return dx,dw,db"
      ]
    },
    {
      "cell_type": "markdown",
      "metadata": {},
      "source": [
        "## Convolution layer"
      ]
    },
    {
      "cell_type": "code",
      "execution_count": null,
      "metadata": {
        "id": "SlEXDrBtxaw_"
      },
      "outputs": [],
      "source": [
        "def conv_forward_naive(x, w, b, conv_param):\n",
        "    out = None\n",
        "\n",
        "    N, C, H, W = x.shape\n",
        "    F, _, HH, WW = w.shape\n",
        "    stride = conv_param['stride']\n",
        "    pad = conv_param['pad']\n",
        "\n",
        "    H_out = 1 + (H + 2 * pad - HH) / stride\n",
        "    W_out = 1 + (W + 2 * pad - WW) / stride\n",
        "    assert(H_out == int(H_out) and W_out == int(W_out))\n",
        "    H_out, W_out = int(H_out), int(W_out)\n",
        "\n",
        "    x_pad = np.pad(x, ((0,), (0,), (pad,), (pad,)), mode='constant', constant_values=0)\n",
        "    out = np.zeros((N, F, H_out, W_out))\n",
        "\n",
        "    for i in range(N):\n",
        "        for f in range(F):\n",
        "            for h_o in range(H_out):\n",
        "                for w_o in range(W_out):\n",
        "                    top = h_o * stride\n",
        "                    bottom = h_o * stride + HH\n",
        "                    left = w_o * stride\n",
        "                    right = w_o * stride + WW\n",
        "                    window_samples = x_pad[i, :, top:bottom, left:right]\n",
        "\n",
        "                    out[i, f, h_o, w_o] = np.dot(window_samples.ravel(), w[f].ravel()) + b[f]\n",
        "\n",
        "\n",
        "    cache = (x_pad, w, b, conv_param)\n",
        "    return out, cache\n"
      ]
    },
    {
      "cell_type": "code",
      "execution_count": null,
      "metadata": {
        "id": "CWmjxslayTfF"
      },
      "outputs": [],
      "source": [
        "def conv_backward_naive(dout, cache):\n",
        "    x_pad, w, b, conv_param = cache\n",
        "    stride = conv_param['stride']\n",
        "    pad = conv_param['pad']\n",
        "    N = x_pad.shape[0]\n",
        "    F, C, HH, WW = w.shape\n",
        "    _, _, H_out, W_out = dout.shape\n",
        "\n",
        "    dx, dw, db = np.zeros_like(x_pad), np.zeros_like(w), np.zeros_like(b)\n",
        "    \n",
        "    \n",
        "    db = dout.sum(axis=(0, 2, 3))\n",
        "\n",
        "    for i in range(N):\n",
        "        for h_o in range(H_out):\n",
        "            for w_o in range(W_out):\n",
        "                for f in range(F):\n",
        "                    top = h_o * stride\n",
        "                    bottom = h_o * stride + HH\n",
        "                    left = w_o * stride\n",
        "                    right = w_o * stride + WW\n",
        "                    window_samples = x_pad[i, :, top:bottom, left:right]\n",
        "\n",
        "                    dloss_doutput_pixel = dout[i, f, h_o, w_o]\n",
        "                    dw[f] += window_samples * dloss_doutput_pixel\n",
        "                    dx[i, :, top:bottom, left:right] += w[f] * dloss_doutput_pixel\n",
        "\n",
        "    dx = dx[:, :, pad:-pad, pad:-pad]\n",
        "\n",
        "\n",
        "    return dx, dw, db\n"
      ]
    },
    {
      "cell_type": "markdown",
      "metadata": {
        "id": "fCQ7N6gS0EsG"
      },
      "source": [
        "## Max pooling\n"
      ]
    },
    {
      "cell_type": "code",
      "execution_count": null,
      "metadata": {
        "id": "CLzacyFN0kWW"
      },
      "outputs": [],
      "source": [
        "\n",
        "def max_pool_forward_naive(x, pool_param):\n",
        "  \n",
        "    N, C, H, W = x.shape\n",
        "    pool_height = pool_param['pool_height']\n",
        "    pool_width = pool_param['pool_width']\n",
        "    stride = pool_param['stride']\n",
        "    W_out = int((W - pool_width) / stride + 1)\n",
        "    H_out = int((H - pool_height) / stride + 1)\n",
        "    out = np.zeros((N, C, H_out, W_out))\n",
        "\n",
        "    for i in range(N):\n",
        "        for h_o in range(H_out):\n",
        "            for w_o in range(W_out):\n",
        "                top = h_o * stride\n",
        "                bottom = h_o * stride + pool_height\n",
        "                left = w_o * stride\n",
        "                right = w_o * stride + pool_width\n",
        "                window_samples = x[i, :, top:bottom, left:right]\n",
        "\n",
        "                out[i, :, h_o, w_o] = np.amax(window_samples, axis=(1, 2))\n",
        "\n",
        "\n",
        "    cache = (x, pool_param)\n",
        "    return out, cache\n",
        "\n"
      ]
    },
    {
      "cell_type": "code",
      "execution_count": null,
      "metadata": {
        "id": "_fDfVFQd0Tq7"
      },
      "outputs": [],
      "source": [
        "def max_pool_backward_naive(dout, cache):\n",
        "    \n",
        "    x, pool_param = cache\n",
        "    N, C, H_out, W_out = np.shape(dout)\n",
        "    pool_height = pool_param['pool_height']\n",
        "    pool_width = pool_param['pool_width']\n",
        "    stride = pool_param['stride']\n",
        "\n",
        "    dx = np.zeros_like(x) # (N, C, H, W)\n",
        "\n",
        "\n",
        "    for i in range(N):\n",
        "        for h_o in range(H_out):\n",
        "            for w_o in range(W_out):\n",
        "                top = h_o * stride\n",
        "                bottom = h_o * stride + pool_height\n",
        "                left = w_o * stride\n",
        "                right = w_o * stride + pool_width\n",
        "                window_samples = x[i, :, top:bottom, left:right]\n",
        "\n",
        "                window_samples = window_samples.reshape((C, pool_width * pool_height))\n",
        "                maxes = np.argmax(window_samples, axis=1)\n",
        "\n",
        "                dout_din = np.zeros_like(window_samples)\n",
        "                dout_din[np.arange(C), maxes] = 1.0\n",
        "\n",
        "                dout_din = dout_din.reshape((C, pool_height, pool_width))\n",
        "\n",
        "                dx[i, :, top:bottom, left:right] += dout_din * dout[i, :, h_o, w_o].reshape((C, 1, 1))\n",
        "\n",
        "\n",
        "    return dx\n"
      ]
    },
    {
      "cell_type": "markdown",
      "metadata": {
        "id": "7ATa-T_sK-uH"
      },
      "source": [
        "## ReLU activation functions"
      ]
    },
    {
      "cell_type": "code",
      "execution_count": null,
      "metadata": {
        "id": "A8P4naV8G0aE"
      },
      "outputs": [],
      "source": [
        "def relu_forward(x):\n",
        "    out, cache = np.maximum(x,0),x\n",
        "\n",
        "    return out, cache\n"
      ]
    },
    {
      "cell_type": "markdown",
      "metadata": {
        "id": "bc0U3W5dLQiJ"
      },
      "source": [
        "### ReLU backward"
      ]
    },
    {
      "cell_type": "code",
      "execution_count": null,
      "metadata": {
        "id": "_hj5SxR6G3Hs"
      },
      "outputs": [],
      "source": [
        "def relu_backward(dout, cache):\n",
        "    dr = cache\n",
        "    dr[dr<=0] = 0\n",
        "    dr[dr>0] = 1\n",
        "    dx = np.multiply(dr,dout)\n",
        "\n",
        "    return dx"
      ]
    },
    {
      "cell_type": "markdown",
      "metadata": {
        "id": "SBeUG_ePHDju"
      },
      "source": [
        "<br><br>\n",
        "<hr>\n",
        "<br><br>"
      ]
    },
    {
      "cell_type": "markdown",
      "metadata": {
        "id": "NKGF_QadLanp"
      },
      "source": [
        "## Simple multi layer network for MNIST"
      ]
    },
    {
      "cell_type": "code",
      "execution_count": null,
      "metadata": {
        "id": "zxarDYEPFUG0"
      },
      "outputs": [],
      "source": [
        "class SimpleCNN:\n",
        "    def __init__(self):\n",
        "        np.random.seed(231) # for reproducibility\n",
        "\n",
        "        # Hardcoded network dimensions\n",
        "        self.num_classes = 10\n",
        "        self.hidden_dim = 1024\n",
        "\n",
        "        # Layer shapes and parameters initialization\n",
        "        self.conv_param1 = {'stride': 2, 'pad': 1}\n",
        "        self.W1 = 0.01 * np.random.randn(8, 1, 4, 4) # First convolutional layer weights\n",
        "        self.b1 = np.zeros(8) # First convolutional layer biases\n",
        "\n",
        "        self.conv_param2 = {'stride': 1, 'pad': 1}\n",
        "        self.W2 = 0.01 * np.random.randn(16, 8, 3, 3) # Second convolutional layer weights\n",
        "        self.b2 = np.zeros(16) # Second convolutional layer biases\n",
        "\n",
        "        self.W3 = 0.01 * np.random.randn(16 * 7 * 7, self.hidden_dim)  # Fully-connected layer weights\n",
        "        self.b3 = np.zeros(self.hidden_dim) # Fully-connected layer biases\n",
        "\n",
        "        self.W4 = 0.01 * np.random.randn(self.hidden_dim, self.num_classes) # Output layer weights\n",
        "        self.b4 = np.zeros(self.num_classes) # Output layer biases\n",
        "\n",
        "\n",
        "    def forward(self, X):\n",
        "        # Forward pass through the network\n",
        "        out1, self.cache1 = conv_forward_naive(X, self.W1, self.b1, self.conv_param1) # Conv1\n",
        "        relu_out1, self.relu_cache1 = relu_forward(out1) # ReLU\n",
        "\n",
        "        out2, self.cache2 = conv_forward_naive(relu_out1, self.W2, self.b2, self.conv_param2) # Conv2\n",
        "        relu_out2, self.relu_cache2 = relu_forward(out2) # ReLU\n",
        "\n",
        "        pool_param = {'pool_height': 2, 'pool_width': 2, 'stride': 2}\n",
        "        out3, self.cache3 = max_pool_forward_naive(relu_out2, pool_param) # Max pooling\n",
        "\n",
        "        self.cache_reshape = out3.shape\n",
        "        out3_flat = out3.reshape(out3.shape[0], -1) # Flatten for fully-connected layer\n",
        "\n",
        "        out4, self.cache4 = affine_forward(out3_flat, self.W3, self.b3) # Fully-connected layer\n",
        "\n",
        "        relu_out4, self.relu_cache4 = relu_forward(out4) # ReLU\n",
        "\n",
        "        scores, self.cache5 = affine_forward(relu_out4, self.W4, self.b4) # Output layer\n",
        "        return scores\n",
        "\n",
        "\n",
        "    def backward(self, scores, y):\n",
        "        # Backward pass to compute gradients\n",
        "        loss, grads = 0, {}\n",
        "\n",
        "        N = scores.shape[0]\n",
        "        shifted = scores - np.max(scores, axis=1, keepdims=True) # for numerical stability\n",
        "        probs = np.exp(shifted) / np.sum(np.exp(shifted), axis=1, keepdims=True) # Softmax probabilities\n",
        "\n",
        "        loss = -np.sum(np.log(probs[np.arange(N), y])) / N # Cross-entropy loss\n",
        "\n",
        "        dscores = probs.copy()\n",
        "        dscores[np.arange(N), y] -= 1\n",
        "        dscores /= N # Gradient of the loss with respect to scores\n",
        "\n",
        "        dx5, dW4, db4 = affine_backward(dscores, self.cache5) # Backprop through output layer\n",
        "        grads['W4'], grads['b4'] = dW4, db4\n",
        "\n",
        "        drelu4 = relu_backward(dx5, self.relu_cache4) # Backprop through ReLU\n",
        "        dx4, dW3, db3 = affine_backward(drelu4, self.cache4) # Backprop through fully-connected layer\n",
        "        grads['W3'], grads['b3'] = dW3, db3\n",
        "\n",
        "        dx3 = dx4.reshape(self.cache_reshape) # Reshape back to pooled feature map shape\n",
        "        dpool = max_pool_backward_naive(dx3, self.cache3) # Backprop through max pooling\n",
        "\n",
        "        drelu2 = relu_backward(dpool, self.relu_cache2) # Backprop through ReLU\n",
        "        dx2, dW2, db2 = conv_backward_naive(drelu2, self.cache2) # Backprop through Conv2\n",
        "        grads['W2'], grads['b2'] = dW2, db2\n",
        "\n",
        "        drelu1 = relu_backward(dx2, self.relu_cache1) # Backprop through ReLU\n",
        "        dx1, dW1, db1 = conv_backward_naive(drelu1, self.cache1) # Backprop through Conv1\n",
        "        grads['W1'], grads['b1'] = dW1, db1\n",
        "        return loss, grads\n",
        "\n",
        "\n",
        "    def update(self, grad, learning_rate):\n",
        "        # Update model parameters using gradients\n",
        "        for param in ['W1', 'b1', 'W2', 'b2', 'W3', 'b3', 'W4', 'b4']:\n",
        "            self.__dict__[param] -= learning_rate * grad[param]"
      ]
    },
    {
      "cell_type": "markdown",
      "metadata": {
        "id": "vp60Wn8SR2Jg"
      },
      "source": [
        "<br><br>\n",
        "<hr>\n",
        "<br><br>"
      ]
    },
    {
      "cell_type": "markdown",
      "metadata": {
        "id": "1-U5GKiEMKlS"
      },
      "source": [
        "## Train network"
      ]
    },
    {
      "cell_type": "markdown",
      "metadata": {
        "id": "2eiEhDA6QPsn"
      },
      "source": [
        "### Initialize network and hyperparameters"
      ]
    },
    {
      "cell_type": "code",
      "execution_count": null,
      "metadata": {
        "id": "iNgkKyITQPdf"
      },
      "outputs": [],
      "source": [
        "learning_rate = 0.1\n",
        "num_epochs = 10\n",
        "batch_size = 20\n",
        "simple_model = SimpleCNN()\n",
        "\n",
        "max_data = 100"
      ]
    },
    {
      "cell_type": "markdown",
      "metadata": {
        "id": "ahFFhi_NQL9g"
      },
      "source": [
        "### load MNIST dataset"
      ]
    },
    {
      "cell_type": "code",
      "execution_count": null,
      "metadata": {
        "id": "7ZHa8Y_bMNUJ"
      },
      "outputs": [],
      "source": [
        "# Define preprocessing steps\n",
        "transform = transforms.Compose([\n",
        "    transforms.ToTensor(),        \n",
        "    transforms.Normalize((0.5,), (0.5,))        \n",
        "])\n",
        "\n",
        "trainset = torchvision.datasets.MNIST(root='./data', train=True,\n",
        "                                        download=True, transform=transform)\n",
        "\n",
        "trainset = torch.utils.data.Subset(trainset, range(max_data))\n",
        "\n",
        "trainloader = torch.utils.data.DataLoader(trainset, batch_size=batch_size,\n",
        "                                          shuffle=True, num_workers=2)"
      ]
    },
    {
      "cell_type": "markdown",
      "metadata": {
        "id": "QmolheujQWqX"
      },
      "source": [
        "### run training\n",
        "The goal was to train the model on an MNIST subset. If the loss decreases, your implementation works—no need for optimal performance here. This confirms basic functionality; further tuning can come later."
      ]
    },
    {
      "cell_type": "code",
      "execution_count": null,
      "metadata": {
        "colab": {
          "base_uri": "https://localhost:8080/"
        },
        "id": "XiTGxZozQWUg",
        "outputId": "36ce801e-977d-43a5-9b9a-088093ee8b9f"
      },
      "outputs": [
        {
          "name": "stdout",
          "output_type": "stream",
          "text": [
            "Epoch 01, Loss: 11.5139\n",
            "Epoch 02, Loss: 11.4976\n",
            "Epoch 03, Loss: 11.4812\n",
            "Epoch 05, Loss: 11.4550\n",
            "Epoch 06, Loss: 11.4437\n",
            "Epoch 07, Loss: 11.4341\n",
            "Epoch 08, Loss: 11.4211\n",
            "Epoch 09, Loss: 11.4107\n",
            "Epoch 10, Loss: 11.4030\n"
          ]
        }
      ],
      "source": [
        "def train(model, dataloader, lr, num_epochs):\n",
        "    for epoch in range(num_epochs):\n",
        "        epoch_loss = 0\n",
        "        for i, (X_batch, y_batch) in enumerate(dataloader):\n",
        "            # Convert tensors to numpy arrays\n",
        "            X_batch = X_batch.numpy()\n",
        "            y_batch = y_batch.numpy()\n",
        "\n",
        "            scores = model.forward(X_batch)\n",
        "            loss, grads = model.backward(scores, y_batch)\n",
        "\n",
        "            model.update(grads, lr)\n",
        "            epoch_loss += loss\n",
        "\n",
        "        print(f\"Epoch {epoch+1:02d}, Loss: {epoch_loss:.4f}\")\n",
        "\n",
        "\n",
        "train(simple_model, trainloader, learning_rate, num_epochs)"
      ]
    },
    {
      "cell_type": "code",
      "execution_count": null,
      "metadata": {
        "id": "I56bC3VPNFPW"
      },
      "outputs": [],
      "source": []
    }
  ],
  "metadata": {
    "colab": {
      "provenance": []
    },
    "kernelspec": {
      "display_name": "Python 3",
      "name": "python3"
    },
    "language_info": {
      "name": "python"
    }
  },
  "nbformat": 4,
  "nbformat_minor": 0
}
