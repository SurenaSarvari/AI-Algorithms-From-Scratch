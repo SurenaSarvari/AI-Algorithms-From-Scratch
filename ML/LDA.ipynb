{
 "cells": [
  {
   "cell_type": "markdown",
   "id": "f87a0bf2",
   "metadata": {},
   "source": [
    "# Code"
   ]
  },
  {
   "cell_type": "code",
   "execution_count": 2,
   "id": "5a4d9783",
   "metadata": {},
   "outputs": [],
   "source": [
    "import numpy as np\n",
    "from numpy import linalg as LA\n",
    "import seaborn as sns"
   ]
  },
  {
   "cell_type": "code",
   "execution_count": 3,
   "id": "a26bbe66",
   "metadata": {},
   "outputs": [],
   "source": [
    "def normalize(X):\n",
    "    return (X - X.mean(axis=0))/X.std(axis =0)"
   ]
  },
  {
   "cell_type": "code",
   "execution_count": 54,
   "id": "73e11e5d",
   "metadata": {},
   "outputs": [],
   "source": [
    "def LDA(X:np.ndarray,y:np.ndarray):\n",
    "    X = normalize(X)\n",
    "    data = np.hstack((X, y))\n",
    "    \n",
    "    n_fetures = X.shape[1]\n",
    "    classes = np.unique(y) \n",
    "    k = len(classes) - 1\n",
    "    \n",
    "    Sw = np.zeros((n_fetures, n_fetures))\n",
    "    Sb = np.zeros((n_fetures, n_fetures))\n",
    "    \n",
    "    overall_mean = X.mean(axis = 0)\n",
    "    for c in classes:\n",
    "        Xc = np.delete(data[data[:, -1] == c], -1, 1)\n",
    "        Nc = Xc.shape[0]\n",
    "        Xc_mean = Xc.mean(axis = 0).reshape((-1, 1))\n",
    "        Xc_center = Xc - Xc_mean.T\n",
    "        Sw += (Xc_center.T @ Xc_center)\n",
    "        \n",
    "        Xc_far = (Xc_mean - overall_mean)\n",
    "        Sb += Nc * (Xc_far.T @ Xc_far)\n",
    "    values, vectors = LA.eig(LA.inv(Sw) @ Sb)\n",
    "    W = np.zeros((k, X.shape[-1]))\n",
    "    for i in range(k):\n",
    "        max_arg = np.argmax(values)\n",
    "        W[i] = vectors[max_arg]\n",
    "        np.delete(values, max_arg)\n",
    "        np.delete(vectors, max_arg, 0)\n",
    "    return W\n",
    "    \n",
    "    "
   ]
  },
  {
   "cell_type": "markdown",
   "id": "bd517768",
   "metadata": {},
   "source": [
    "# Test on iris dataset"
   ]
  },
  {
   "cell_type": "code",
   "execution_count": 55,
   "id": "e1b21e6c",
   "metadata": {},
   "outputs": [],
   "source": [
    "iris_row = sns.load_dataset(\"iris\")"
   ]
  },
  {
   "cell_type": "code",
   "execution_count": 56,
   "id": "66157648",
   "metadata": {},
   "outputs": [],
   "source": [
    "X = np.array(iris_row.drop([\"species\"], axis = 1))\n",
    "y = np.array(iris_row[\"species\"])\n",
    "label_map = {'setosa': 0, 'versicolor': 1, 'virginica': 2}\n",
    "y = np.array([label_map[label] for label in y]).reshape((-1, 1))"
   ]
  },
  {
   "cell_type": "code",
   "execution_count": 57,
   "id": "41b6df9b",
   "metadata": {},
   "outputs": [],
   "source": [
    "W = LDA(X, y)"
   ]
  },
  {
   "cell_type": "code",
   "execution_count": 58,
   "id": "24ece63f",
   "metadata": {},
   "outputs": [],
   "source": [
    "X_prim =( W @ X.T).T"
   ]
  },
  {
   "cell_type": "code",
   "execution_count": 60,
   "id": "e187c670",
   "metadata": {},
   "outputs": [
    {
     "data": {
      "image/png": "[encoded data removed]",
      "text/plain": [
       "<Figure size 640x480 with 1 Axes>"
      ]
     },
     "metadata": {},
     "output_type": "display_data"
    }
   ],
   "source": [
    "import matplotlib.pyplot as plt\n",
    "\n",
    "plt.scatter(X_prim[:,0], X_prim[:,1], c= y);"
   ]
  }
 ],
 "metadata": {
  "kernelspec": {
   "display_name": "Python 3 (ipykernel)",
   "language": "python",
   "name": "python3"
  },
  "language_info": {
   "codemirror_mode": {
    "name": "ipython",
    "version": 3
   },
   "file_extension": ".py",
   "mimetype": "text/x-python",
   "name": "python",
   "nbconvert_exporter": "python",
   "pygments_lexer": "ipython3",
   "version": "3.10.9"
  }
 },
 "nbformat": 4,
 "nbformat_minor": 5
}
